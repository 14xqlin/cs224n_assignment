{
 "cells": [
  {
   "cell_type": "code",
   "execution_count": 2,
   "metadata": {},
   "outputs": [],
   "source": [
    "import numpy as np\n",
    "import torch\n",
    "import random\n",
    "import matplotlib.pyplot as plt\n",
    "\n",
    "from torch import nn, optim\n",
    "from collections import Counter"
   ]
  },
  {
   "cell_type": "code",
   "execution_count": 4,
   "metadata": {},
   "outputs": [
    {
     "data": {
      "text/plain": [
       "array([[0.0309803 , 0.01987633, 0.00189091, 0.00353473],\n",
       "       [0.05293239, 0.03396035, 0.00323077, 0.00603937],\n",
       "       [0.75037573, 0.48142586, 0.04579982, 0.08561482]])"
      ]
     },
     "execution_count": 4,
     "metadata": {},
     "output_type": "execute_result"
    }
   ],
   "source": [
    "a = np.random.rand(3)\n",
    "b = np.random.rand(4)\n",
    "\n",
    "np.dot(a.reshape(-1,1), b.reshape(1, -1))"
   ]
  },
  {
   "cell_type": "code",
   "execution_count": 2,
   "metadata": {},
   "outputs": [],
   "source": [
    "text = \"I like dog i like cat i like animal dog cat animal apple cat dog like dog fish milk like dog \\\n",
    "cat eyes like i like apple apple i hate apple i movie book music like cat dog hate cat dog like\""
   ]
  },
  {
   "cell_type": "code",
   "execution_count": 3,
   "metadata": {},
   "outputs": [],
   "source": [
    "EMBEDDING_DIM = 2\n",
    "PRINT_EVERY = 1000\n",
    "EPOCHS = 1000\n",
    "BATCH_SIZE = 5\n",
    "N_SAMPLES = 3\n",
    "WINDOW_SIZE = 5\n",
    "FREQ = 0\n",
    "DELETE_WORDS = False"
   ]
  },
  {
   "cell_type": "code",
   "execution_count": 4,
   "metadata": {},
   "outputs": [],
   "source": [
    "def preprocess(text, FREQ):\n",
    "    text = text.lower()\n",
    "    words = text.split()\n",
    "    \n",
    "    word_counts = Counter(words)\n",
    "    trimmed_words = [word for word in words if word_counts[word] > FREQ]\n",
    "    \n",
    "    return trimmed_words\n",
    "\n",
    "words = preprocess(text, FREQ)"
   ]
  },
  {
   "cell_type": "code",
   "execution_count": 10,
   "metadata": {},
   "outputs": [],
   "source": [
    "vocab = set(words)\n",
    "word2id = { word: idx for idx, word in enumerate(vocab) }\n",
    "id2word = { idx: word for idx, word in enumerate(vocab) }"
   ]
  },
  {
   "cell_type": "code",
   "execution_count": 12,
   "metadata": {},
   "outputs": [],
   "source": [
    "int_words = [word2id[word] for word in words]"
   ]
  },
  {
   "cell_type": "code",
   "execution_count": 17,
   "metadata": {},
   "outputs": [],
   "source": [
    "int_words_counts = Counter(int_words)\n",
    "total_count = len(int_words)\n",
    "word_freqs = {w: c/total_count for w, c in int_words_counts.items()}"
   ]
  },
  {
   "cell_type": "code",
   "execution_count": 18,
   "metadata": {},
   "outputs": [],
   "source": [
    "word_freqs = np.array(list(word_freqs.values()))\n",
    "unigram_dist = word_freqs / word_freqs.sum()\n",
    "noise_dist = torch.from_numpy(unigram_dist ** (0.75) / np.sum(unigram_dist ** (0.75)))"
   ]
  },
  {
   "cell_type": "code",
   "execution_count": 23,
   "metadata": {},
   "outputs": [],
   "source": [
    "def get_target(words, idx, WINDOW_SIZE):\n",
    "    target_window = np.random.randint(1, WINDOW_SIZE + 1)\n",
    "    start_point = idx - target_window if (idx - target_window) > 0 else 0\n",
    "    end_point = idx + target_window\n",
    "    targets = set( words[start_point:idx] + words[idx + 1:end_point + 1] )\n",
    "    \n",
    "    return list(targets)\n",
    "\n",
    "def get_batch(words, BATCH_SIZE, WINDOW_SIZE):\n",
    "    n_batches = len(words) // BATCH_SIZE\n",
    "    words = words[:n_batches * BATCH_SIZE]\n",
    "        \n",
    "    for idx in range(0, len(words), BATCH_SIZE):\n",
    "        batch_x, batcy_y = [], []\n",
    "        batch = words[idx:idx + BATCH_SIZE]\n",
    "        \n",
    "        for i in range(len(batch)):\n",
    "            x = batch[i]\n",
    "            y = get_batch(batch, i, WINDOW_SIZE)\n",
    "            batch_x.extend([x] * len(y))\n",
    "            batch_y.extend(y)\n",
    "            \n",
    "        yield batch_x, batch_y"
   ]
  },
  {
   "cell_type": "code",
   "execution_count": null,
   "metadata": {},
   "outputs": [],
   "source": [
    "class SkipGramNeg(nn.Module):\n",
    "    \n",
    "    def __init__(self, n_vocab, n_embed, noise_dist):\n",
    "        super(self, SkipGramNeg).__init__()\n",
    "        self.n_vocab = n_vocab\n",
    "        self.n_embed = n_embed\n",
    "        self.noise_dist = noise_dist\n",
    "        \n",
    "        self.in_embed = nn.Embedding(n_vocab, n_embed)\n",
    "        self.out_embed = nn.Embedding(n_vocab, n_embed)\n",
    "        \n",
    "        self.in_embed.weight.data.uniform_(-1, 1)\n",
    "        self.out_embed.weight.data.uniform_(-1, 1)\n",
    "        \n",
    "    def forward_input(self, input_words):\n",
    "        inc_vec = self.in_embed(input_words)\n",
    "        return inc_vec\n",
    "    \n",
    "    def "
   ]
  }
 ],
 "metadata": {
  "kernelspec": {
   "display_name": "pytorch",
   "language": "python",
   "name": "pytorch"
  },
  "language_info": {
   "codemirror_mode": {
    "name": "ipython",
    "version": 3
   },
   "file_extension": ".py",
   "mimetype": "text/x-python",
   "name": "python",
   "nbconvert_exporter": "python",
   "pygments_lexer": "ipython3",
   "version": "3.7.9"
  }
 },
 "nbformat": 4,
 "nbformat_minor": 4
}
