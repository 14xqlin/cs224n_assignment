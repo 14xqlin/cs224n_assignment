{
 "cells": [
  {
   "cell_type": "code",
   "execution_count": 1,
   "metadata": {},
   "outputs": [],
   "source": [
    "import numpy as np\n",
    "import random\n",
    "import matplotlib.pyplot as plt\n",
    "\n",
    "import torch\n",
    "from torch import nn, optim\n",
    "\n",
    "from collections import Counter"
   ]
  },
  {
   "cell_type": "code",
   "execution_count": 2,
   "metadata": {},
   "outputs": [],
   "source": [
    "text = \"I like dog i like cat i like animal dog cat animal apple cat dog like dog fish milk like dog \\\n",
    "cat eyes like i like apple apple i hate apple i movie book music like cat dog hate cat dog like\""
   ]
  },
  {
   "cell_type": "code",
   "execution_count": 17,
   "metadata": {},
   "outputs": [],
   "source": [
    "EMBEDDING_DIM = 2 #词向量维度\n",
    "PRINT_EVERY = 1000 #可视化频率\n",
    "EPOCHS = 5000 #训练的轮数\n",
    "BATCH_SIZE = 5 #每一批训练数据大小\n",
    "N_SAMPLES = 3 #负样本大小\n",
    "WINDOW_SIZE = 5 #周边词窗口大小\n",
    "FREQ = 0 #词汇出现频率\n",
    "DELETE_WORDS = False #是否删除部分高频词"
   ]
  },
  {
   "cell_type": "code",
   "execution_count": 4,
   "metadata": {},
   "outputs": [],
   "source": [
    "#文本预处理\n",
    "def preprocess(text, FREQ):\n",
    "    text = text.lower()\n",
    "    words = text.split()\n",
    "    #去除低频词\n",
    "    word_counts = Counter(words)\n",
    "    trimmed_words = [word for word in words if word_counts[word] > FREQ]\n",
    "    return trimmed_words\n",
    "words = preprocess(text, FREQ)\n",
    "\n",
    "#构建词典\n",
    "vocab = set(words)\n",
    "vocab2int = {w: c for c, w in enumerate(vocab)}\n",
    "int2vocab = {c: w for c, w in enumerate(vocab)}\n",
    "\n",
    "#将文本转化为数值\n",
    "int_words = [vocab2int[w] for w in words]\n",
    "\n",
    "#计算单词频次\n",
    "int_word_counts = Counter(int_words)\n",
    "total_count = len(int_words)\n",
    "word_freqs = {w: c/total_count for w, c in int_word_counts.items()}\n",
    "\n",
    "#去除出现频次高的词汇\n",
    "if DELETE_WORDS:\n",
    "    t = 1e-5\n",
    "    prob_drop = {w: 1-np.sqrt(t/word_freqs[w]) for w in int_word_counts}\n",
    "    train_words = [w for w in int_words if random.random()<(1-prob_drop[w])]\n",
    "else:\n",
    "    train_words = int_words"
   ]
  },
  {
   "cell_type": "code",
   "execution_count": 5,
   "metadata": {},
   "outputs": [],
   "source": [
    "#单词分布\n",
    "word_freqs = np.array(list(word_freqs.values()))\n",
    "unigram_dist = word_freqs / word_freqs.sum()\n",
    "noise_dist = torch.from_numpy(unigram_dist ** (0.75) / np.sum(unigram_dist ** (0.75)))"
   ]
  },
  {
   "cell_type": "code",
   "execution_count": 6,
   "metadata": {},
   "outputs": [],
   "source": [
    "#获取目标词汇\n",
    "def get_target(words, idx, WINDOW_SIZE):\n",
    "    target_window = np.random.randint(1, WINDOW_SIZE+1)\n",
    "    start_point = idx-target_window if (idx-target_window)>0 else 0\n",
    "    \n",
    "    end_point = idx+target_window\n",
    "    targets = set(words[start_point:idx]+words[idx+1:end_point+1])\n",
    "   \n",
    "    return list(targets)\n",
    "\n",
    "#批次化数据\n",
    "def get_batch(words, BATCH_SIZE, WINDOW_SIZE):\n",
    "    n_batches = len(words)//BATCH_SIZE\n",
    "    words = words[:n_batches*BATCH_SIZE]\n",
    "    \n",
    "    for idx in range(0, len(words), BATCH_SIZE):\n",
    "        batch_x, batch_y = [],[]\n",
    "        batch = words[idx:idx+BATCH_SIZE]\n",
    "        \n",
    "        for i in range(len(batch)):\n",
    "            x = batch[i]\n",
    "            y = get_target(batch, i, WINDOW_SIZE)\n",
    "            batch_x.extend([x]*len(y))\n",
    "            batch_y.extend(y)\n",
    "            \n",
    "        yield batch_x, batch_y"
   ]
  },
  {
   "cell_type": "code",
   "execution_count": 7,
   "metadata": {},
   "outputs": [],
   "source": [
    "class SkipGramNeg(nn.Module):\n",
    "    \n",
    "    def __init__(self, n_vocab, n_embed, noise_dist):\n",
    "        super().__init__()\n",
    "        \n",
    "        self.n_vocab = n_vocab\n",
    "        self.n_embed = n_embed\n",
    "        self.noise_dist = noise_dist\n",
    "        \n",
    "        self.in_embed = nn.Embedding(n_vocab, n_embed)\n",
    "        self.out_embed = nn.Embedding(n_vocab, n_embed)\n",
    "        \n",
    "        self.in_embed.weight.data.uniform_(-1, 1)\n",
    "        self.out_embed.weight.data.uniform_(-1, 1)\n",
    "        \n",
    "    def forward_input(self, input_words):\n",
    "        input_vectors = self.in_embed(input_words)\n",
    "        return input_vectors\n",
    "    \n",
    "    def forward_output(self, output_words):\n",
    "        output_vectors = self.out_embed(output_words)\n",
    "        return output_vectors\n",
    "    \n",
    "    def forward_noise(self, size, N_SAMPLES):\n",
    "        noise_dist = self.noise_dist\n",
    "        \n",
    "        noise_words = torch.multinomial(noise_dist,\n",
    "                                       size * N_SAMPLES,\n",
    "                                       replacement=True)\n",
    "        \n",
    "        noise_vectors = self.out_embed(noise_words).view(size, N_SAMPLES, self.n_embed)   #noise_vectors:(batch_size, n_samples, n_embed)\n",
    "        \n",
    "        return noise_vectors"
   ]
  },
  {
   "cell_type": "code",
   "execution_count": 8,
   "metadata": {},
   "outputs": [],
   "source": [
    "class NegativeSamplingLoss(nn.Module):\n",
    "    \n",
    "    def __init__(self):\n",
    "        super().__init__()\n",
    "        \n",
    "    def forward(self, input_vectors, output_vectors, noise_vectors):\n",
    "        \n",
    "        BATCH_SIZE, embed_size = input_vectors.shape\n",
    "        \n",
    "        input_vectors = input_vectors.view(BATCH_SIZE, embed_size, 1)\n",
    "        output_vectors = output_vectors.view(BATCH_SIZE, 1, embed_size)\n",
    "        \n",
    "        #target word, with shape :(batch_size, )\n",
    "        test = torch.bmm(output_vectors, input_vectors)                      \n",
    "        out_loss = torch.bmm(output_vectors, input_vectors).sigmoid().log()\n",
    "        out_loss = out_loss.squeeze()\n",
    "        \n",
    "        #neg-sample words, with shape:()\n",
    "        noise_loss = torch.bmm(noise_vectors.neg(), input_vectors).sigmoid().log()\n",
    "        noise_loss = noise_loss.squeeze().sum(1)\n",
    "        \n",
    "        return -(out_loss + noise_loss).mean()"
   ]
  },
  {
   "cell_type": "code",
   "execution_count": 18,
   "metadata": {},
   "outputs": [
    {
     "name": "stdout",
     "output_type": "stream",
     "text": [
      "loss:  tensor(1.7248, grad_fn=<NegBackward>)\n",
      "loss:  tensor(1.5398, grad_fn=<NegBackward>)\n",
      "loss:  tensor(1.8212, grad_fn=<NegBackward>)\n",
      "loss:  tensor(1.7078, grad_fn=<NegBackward>)\n",
      "loss:  tensor(1.4962, grad_fn=<NegBackward>)\n",
      "loss:  tensor(1.6824, grad_fn=<NegBackward>)\n",
      "loss:  tensor(1.7902, grad_fn=<NegBackward>)\n",
      "loss:  tensor(1.4482, grad_fn=<NegBackward>)\n",
      "loss:  tensor(1.4970, grad_fn=<NegBackward>)\n",
      "loss:  tensor(1.4398, grad_fn=<NegBackward>)\n",
      "loss:  tensor(1.7940, grad_fn=<NegBackward>)\n",
      "loss:  tensor(1.4665, grad_fn=<NegBackward>)\n",
      "loss:  tensor(1.5476, grad_fn=<NegBackward>)\n",
      "loss:  tensor(1.5610, grad_fn=<NegBackward>)\n",
      "loss:  tensor(1.6509, grad_fn=<NegBackward>)\n",
      "loss:  tensor(1.5790, grad_fn=<NegBackward>)\n",
      "loss:  tensor(1.6149, grad_fn=<NegBackward>)\n",
      "loss:  tensor(1.5857, grad_fn=<NegBackward>)\n",
      "loss:  tensor(1.3935, grad_fn=<NegBackward>)\n",
      "loss:  tensor(1.4926, grad_fn=<NegBackward>)\n",
      "loss:  tensor(1.6541, grad_fn=<NegBackward>)\n",
      "loss:  tensor(1.6549, grad_fn=<NegBackward>)\n",
      "loss:  tensor(1.6771, grad_fn=<NegBackward>)\n",
      "loss:  tensor(1.4662, grad_fn=<NegBackward>)\n",
      "loss:  tensor(1.5172, grad_fn=<NegBackward>)\n",
      "loss:  tensor(1.4779, grad_fn=<NegBackward>)\n",
      "loss:  tensor(1.5851, grad_fn=<NegBackward>)\n",
      "loss:  tensor(1.6019, grad_fn=<NegBackward>)\n",
      "loss:  tensor(1.4948, grad_fn=<NegBackward>)\n",
      "loss:  tensor(1.4115, grad_fn=<NegBackward>)\n",
      "loss:  tensor(1.5465, grad_fn=<NegBackward>)\n",
      "loss:  tensor(1.6691, grad_fn=<NegBackward>)\n",
      "loss:  tensor(1.4889, grad_fn=<NegBackward>)\n",
      "loss:  tensor(1.5772, grad_fn=<NegBackward>)\n",
      "loss:  tensor(1.6286, grad_fn=<NegBackward>)\n",
      "loss:  tensor(1.7419, grad_fn=<NegBackward>)\n",
      "loss:  tensor(1.5203, grad_fn=<NegBackward>)\n",
      "loss:  tensor(1.6741, grad_fn=<NegBackward>)\n",
      "loss:  tensor(1.5286, grad_fn=<NegBackward>)\n",
      "loss:  tensor(1.7527, grad_fn=<NegBackward>)\n"
     ]
    }
   ],
   "source": [
    "model = SkipGramNeg(len(vocab2int), EMBEDDING_DIM, noise_dist=noise_dist)\n",
    "criterion = NegativeSamplingLoss()\n",
    "optimizer = optim.Adam(model.parameters(), lr=0.003)\n",
    "\n",
    "steps = 0\n",
    "for e in range(EPOCHS):\n",
    "    \n",
    "    for input_words, target_words in get_batch(train_words, BATCH_SIZE, WINDOW_SIZE):\n",
    "        steps += 1\n",
    "        inputs, targets = torch.LongTensor(input_words), torch.LongTensor(target_words)\n",
    "        \n",
    "        input_vectors = model.forward_input(inputs)\n",
    "        output_vectors = model.forward_output(targets)\n",
    "        size, _ = input_vectors.shape\n",
    "        noise_vectors = model.forward_noise(size, N_SAMPLES)\n",
    "        \n",
    "        loss = criterion(input_vectors, output_vectors, noise_vectors)\n",
    "        \n",
    "        if steps % PRINT_EVERY == 0:\n",
    "            print(\"loss: \", loss)\n",
    "            \n",
    "        optimizer.zero_grad()\n",
    "        loss.backward()\n",
    "        optimizer.step()"
   ]
  },
  {
   "cell_type": "code",
   "execution_count": 19,
   "metadata": {},
   "outputs": [
    {
     "data": {
      "image/png": "[encoded data removed]",
      "text/plain": [
       "<Figure size 432x288 with 1 Axes>"
      ]
     },
     "metadata": {
      "needs_background": "light"
     },
     "output_type": "display_data"
    }
   ],
   "source": [
    "for i, w in int2vocab.items():\n",
    "    vectors = model.state_dict()[\"in_embed.weight\"]\n",
    "    x,y = float(vectors[i][0]),float(vectors[i][1])\n",
    "    plt.scatter(x,y)\n",
    "    plt.annotate(w, xy=(x, y), xytext=(5, 2), textcoords='offset points', ha='right', va='bottom')\n",
    "plt.show()"
   ]
  },
  {
   "cell_type": "code",
   "execution_count": null,
   "metadata": {},
   "outputs": [],
   "source": []
  }
 ],
 "metadata": {
  "kernelspec": {
   "display_name": "pytorch",
   "language": "python",
   "name": "pytorch"
  },
  "language_info": {
   "codemirror_mode": {
    "name": "ipython",
    "version": 3
   },
   "file_extension": ".py",
   "mimetype": "text/x-python",
   "name": "python",
   "nbconvert_exporter": "python",
   "pygments_lexer": "ipython3",
   "version": "3.7.9"
  }
 },
 "nbformat": 4,
 "nbformat_minor": 4
}
